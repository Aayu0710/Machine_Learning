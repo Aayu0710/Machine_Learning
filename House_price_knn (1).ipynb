{
 "cells": [
  {
   "cell_type": "code",
   "execution_count": 69,
   "id": "d86791ae",
   "metadata": {},
   "outputs": [],
   "source": [
    "import pandas as pd\n",
    "import numpy as np\n",
    "import matplotlib.pyplot as plt\n",
    "import seaborn as sns"
   ]
  },
  {
   "cell_type": "code",
   "execution_count": 70,
   "id": "45f9cede",
   "metadata": {},
   "outputs": [],
   "source": [
    "df = pd.read_csv('C://Users//HP//Downloads//boston_data//Boston.csv', index_col=0)"
   ]
  },
  {
   "cell_type": "code",
   "execution_count": 71,
   "id": "09377db2",
   "metadata": {},
   "outputs": [],
   "source": [
    "from sklearn.neighbors import KNeighborsRegressor\n",
    "knn  =  KNeighborsRegressor(n_neighbors=5)"
   ]
  },
  {
   "cell_type": "code",
   "execution_count": 72,
   "id": "afd548f1",
   "metadata": {},
   "outputs": [
    {
     "data": {
      "text/html": [
       "<div>\n",
       "<style scoped>\n",
       "    .dataframe tbody tr th:only-of-type {\n",
       "        vertical-align: middle;\n",
       "    }\n",
       "\n",
       "    .dataframe tbody tr th {\n",
       "        vertical-align: top;\n",
       "    }\n",
       "\n",
       "    .dataframe thead th {\n",
       "        text-align: right;\n",
       "    }\n",
       "</style>\n",
       "<table border=\"1\" class=\"dataframe\">\n",
       "  <thead>\n",
       "    <tr style=\"text-align: right;\">\n",
       "      <th></th>\n",
       "      <th>crim</th>\n",
       "      <th>zn</th>\n",
       "      <th>indus</th>\n",
       "      <th>chas</th>\n",
       "      <th>nox</th>\n",
       "      <th>rm</th>\n",
       "      <th>age</th>\n",
       "      <th>dis</th>\n",
       "      <th>rad</th>\n",
       "      <th>tax</th>\n",
       "      <th>ptratio</th>\n",
       "      <th>black</th>\n",
       "      <th>lstat</th>\n",
       "      <th>medv</th>\n",
       "    </tr>\n",
       "  </thead>\n",
       "  <tbody>\n",
       "    <tr>\n",
       "      <th>1</th>\n",
       "      <td>0.00632</td>\n",
       "      <td>18.0</td>\n",
       "      <td>2.31</td>\n",
       "      <td>0</td>\n",
       "      <td>0.538</td>\n",
       "      <td>6.575</td>\n",
       "      <td>65.2</td>\n",
       "      <td>4.0900</td>\n",
       "      <td>1</td>\n",
       "      <td>296</td>\n",
       "      <td>15.3</td>\n",
       "      <td>396.90</td>\n",
       "      <td>4.98</td>\n",
       "      <td>24.0</td>\n",
       "    </tr>\n",
       "    <tr>\n",
       "      <th>2</th>\n",
       "      <td>0.02731</td>\n",
       "      <td>0.0</td>\n",
       "      <td>7.07</td>\n",
       "      <td>0</td>\n",
       "      <td>0.469</td>\n",
       "      <td>6.421</td>\n",
       "      <td>78.9</td>\n",
       "      <td>4.9671</td>\n",
       "      <td>2</td>\n",
       "      <td>242</td>\n",
       "      <td>17.8</td>\n",
       "      <td>396.90</td>\n",
       "      <td>9.14</td>\n",
       "      <td>21.6</td>\n",
       "    </tr>\n",
       "    <tr>\n",
       "      <th>3</th>\n",
       "      <td>0.02729</td>\n",
       "      <td>0.0</td>\n",
       "      <td>7.07</td>\n",
       "      <td>0</td>\n",
       "      <td>0.469</td>\n",
       "      <td>7.185</td>\n",
       "      <td>61.1</td>\n",
       "      <td>4.9671</td>\n",
       "      <td>2</td>\n",
       "      <td>242</td>\n",
       "      <td>17.8</td>\n",
       "      <td>392.83</td>\n",
       "      <td>4.03</td>\n",
       "      <td>34.7</td>\n",
       "    </tr>\n",
       "    <tr>\n",
       "      <th>4</th>\n",
       "      <td>0.03237</td>\n",
       "      <td>0.0</td>\n",
       "      <td>2.18</td>\n",
       "      <td>0</td>\n",
       "      <td>0.458</td>\n",
       "      <td>6.998</td>\n",
       "      <td>45.8</td>\n",
       "      <td>6.0622</td>\n",
       "      <td>3</td>\n",
       "      <td>222</td>\n",
       "      <td>18.7</td>\n",
       "      <td>394.63</td>\n",
       "      <td>2.94</td>\n",
       "      <td>33.4</td>\n",
       "    </tr>\n",
       "    <tr>\n",
       "      <th>5</th>\n",
       "      <td>0.06905</td>\n",
       "      <td>0.0</td>\n",
       "      <td>2.18</td>\n",
       "      <td>0</td>\n",
       "      <td>0.458</td>\n",
       "      <td>7.147</td>\n",
       "      <td>54.2</td>\n",
       "      <td>6.0622</td>\n",
       "      <td>3</td>\n",
       "      <td>222</td>\n",
       "      <td>18.7</td>\n",
       "      <td>396.90</td>\n",
       "      <td>5.33</td>\n",
       "      <td>36.2</td>\n",
       "    </tr>\n",
       "  </tbody>\n",
       "</table>\n",
       "</div>"
      ],
      "text/plain": [
       "      crim    zn  indus  chas    nox     rm   age     dis  rad  tax  ptratio  \\\n",
       "1  0.00632  18.0   2.31     0  0.538  6.575  65.2  4.0900    1  296     15.3   \n",
       "2  0.02731   0.0   7.07     0  0.469  6.421  78.9  4.9671    2  242     17.8   \n",
       "3  0.02729   0.0   7.07     0  0.469  7.185  61.1  4.9671    2  242     17.8   \n",
       "4  0.03237   0.0   2.18     0  0.458  6.998  45.8  6.0622    3  222     18.7   \n",
       "5  0.06905   0.0   2.18     0  0.458  7.147  54.2  6.0622    3  222     18.7   \n",
       "\n",
       "    black  lstat  medv  \n",
       "1  396.90   4.98  24.0  \n",
       "2  396.90   9.14  21.6  \n",
       "3  392.83   4.03  34.7  \n",
       "4  394.63   2.94  33.4  \n",
       "5  396.90   5.33  36.2  "
      ]
     },
     "execution_count": 72,
     "metadata": {},
     "output_type": "execute_result"
    }
   ],
   "source": [
    "df.head()"
   ]
  },
  {
   "cell_type": "code",
   "execution_count": 73,
   "id": "5c111c5a",
   "metadata": {},
   "outputs": [],
   "source": [
    "feature_col = ['crim', 'rm', 'tax']\n",
    "X = df[feature_col]"
   ]
  },
  {
   "cell_type": "code",
   "execution_count": 74,
   "id": "df172152",
   "metadata": {},
   "outputs": [
    {
     "data": {
      "text/html": [
       "<div>\n",
       "<style scoped>\n",
       "    .dataframe tbody tr th:only-of-type {\n",
       "        vertical-align: middle;\n",
       "    }\n",
       "\n",
       "    .dataframe tbody tr th {\n",
       "        vertical-align: top;\n",
       "    }\n",
       "\n",
       "    .dataframe thead th {\n",
       "        text-align: right;\n",
       "    }\n",
       "</style>\n",
       "<table border=\"1\" class=\"dataframe\">\n",
       "  <thead>\n",
       "    <tr style=\"text-align: right;\">\n",
       "      <th></th>\n",
       "      <th>crim</th>\n",
       "      <th>rm</th>\n",
       "      <th>tax</th>\n",
       "    </tr>\n",
       "  </thead>\n",
       "  <tbody>\n",
       "    <tr>\n",
       "      <th>1</th>\n",
       "      <td>0.00632</td>\n",
       "      <td>6.575</td>\n",
       "      <td>296</td>\n",
       "    </tr>\n",
       "    <tr>\n",
       "      <th>2</th>\n",
       "      <td>0.02731</td>\n",
       "      <td>6.421</td>\n",
       "      <td>242</td>\n",
       "    </tr>\n",
       "    <tr>\n",
       "      <th>3</th>\n",
       "      <td>0.02729</td>\n",
       "      <td>7.185</td>\n",
       "      <td>242</td>\n",
       "    </tr>\n",
       "    <tr>\n",
       "      <th>4</th>\n",
       "      <td>0.03237</td>\n",
       "      <td>6.998</td>\n",
       "      <td>222</td>\n",
       "    </tr>\n",
       "    <tr>\n",
       "      <th>5</th>\n",
       "      <td>0.06905</td>\n",
       "      <td>7.147</td>\n",
       "      <td>222</td>\n",
       "    </tr>\n",
       "  </tbody>\n",
       "</table>\n",
       "</div>"
      ],
      "text/plain": [
       "      crim     rm  tax\n",
       "1  0.00632  6.575  296\n",
       "2  0.02731  6.421  242\n",
       "3  0.02729  7.185  242\n",
       "4  0.03237  6.998  222\n",
       "5  0.06905  7.147  222"
      ]
     },
     "execution_count": 74,
     "metadata": {},
     "output_type": "execute_result"
    }
   ],
   "source": [
    "X.head()"
   ]
  },
  {
   "cell_type": "code",
   "execution_count": 75,
   "id": "8b88ca70",
   "metadata": {},
   "outputs": [
    {
     "data": {
      "text/plain": [
       "1    24.0\n",
       "2    21.6\n",
       "3    34.7\n",
       "4    33.4\n",
       "5    36.2\n",
       "Name: medv, dtype: float64"
      ]
     },
     "execution_count": 75,
     "metadata": {},
     "output_type": "execute_result"
    }
   ],
   "source": [
    "y = df.medv\n",
    "y.head()"
   ]
  },
  {
   "cell_type": "code",
   "execution_count": 76,
   "id": "0612044e",
   "metadata": {},
   "outputs": [
    {
     "data": {
      "text/plain": [
       "KNeighborsRegressor()"
      ]
     },
     "execution_count": 76,
     "metadata": {},
     "output_type": "execute_result"
    }
   ],
   "source": [
    "knn.fit(X,y)"
   ]
  },
  {
   "cell_type": "code",
   "execution_count": 77,
   "id": "2ce88c64",
   "metadata": {},
   "outputs": [
    {
     "name": "stdout",
     "output_type": "stream",
     "text": [
      "[26.3  24.38 24.38 32.46 33.46 30.98 21.9  20.56 19.78 21.9  20.56 21.9\n",
      " 19.78 19.36 19.2  18.14 16.94 18.26 16.68 16.84 13.42 18.12 16.16 16.6\n",
      " 17.94 16.68 18.14 17.9  25.22 24.42 15.4  15.9  15.9  15.4  15.9  21.82\n",
      " 21.82 21.82 21.82 32.06 32.8  22.88 21.56 21.56 21.56 17.94 19.3  21.56\n",
      " 17.94 17.94 22.04 22.04 22.04 22.04 16.84 35.36 22.32 35.82 19.96 19.96\n",
      " 19.96 19.96 21.22 23.84 38.98 22.6  22.12 25.34 25.34 25.34 22.74 22.3\n",
      " 22.3  22.74 21.5  21.5  21.5  21.5  21.5  21.28 24.82 24.82 24.82 24.82\n",
      " 24.62 24.62 24.62 24.62 23.96 23.96 22.62 22.62 22.62 22.62 22.62 24.6\n",
      " 23.52 34.56 34.56 34.56 22.36 22.36 19.92 20.18 20.18 19.76 19.76 20.18\n",
      " 21.4  20.18 20.18 20.08 19.2  19.18 19.18 19.08 19.18 19.08 19.2  19.2\n",
      " 19.78 20.6  20.6  20.   19.78 19.66 19.04 15.86 17.28 16.46 19.08 18.82\n",
      " 19.04 15.86 17.14 19.04 15.86 19.08 15.86 18.06 16.86 16.02 14.36 17.\n",
      " 14.54 20.34 20.12 14.58 14.58 19.06 22.72 20.08 20.08 20.12 21.44 17.\n",
      " 15.3  31.72 21.44 22.62 21.8  48.26 48.26 48.26 18.12 18.42 48.26 20.6\n",
      " 20.34 20.8  21.44 18.12 23.42 24.96 23.42 26.3  23.42 24.96 26.3  35.4\n",
      " 39.48 32.38 39.48 34.68 32.38 32.38 39.48 33.14 26.74 34.16 34.16 33.14\n",
      " 34.16 32.12 32.12 35.98 30.66 30.66 30.66 31.88 37.22 26.48 26.48 35.32\n",
      " 35.32 22.72 24.72 22.72 23.22 21.58 22.72 21.58 22.72 24.72 21.58 24.72\n",
      " 23.52 24.6  23.52 24.6  27.98 21.72 27.68 26.82 44.48 44.48 43.82 29.8\n",
      " 35.82 26.82 19.88 33.64 44.48 44.48 28.64 21.72 28.64 33.64 22.98 22.98\n",
      " 22.94 22.34 22.98 22.98 21.08 21.08 23.7  23.7  24.08 25.9  24.08 24.08\n",
      " 25.9  33.3  23.5  22.42 32.54 47.08 36.16 33.42 36.1  38.58 47.08 33.6\n",
      " 36.16 29.3  32.42 47.08 38.58 22.02 22.02 22.72 23.96 40.64 31.96 31.96\n",
      " 31.96 31.96 31.96 38.98 38.98 38.98 38.98 42.98 27.08 22.98 24.06 23.62\n",
      " 23.7  24.74 32.86 32.86 32.86 24.32 24.32 24.32 24.32 24.32 22.2  22.2\n",
      " 22.2  29.28 29.28 30.66 33.46 30.98 33.46 32.46 22.46 19.66 19.14 20.86\n",
      " 19.58 21.08 22.46 18.24 18.7  18.24 22.46 20.02 23.9  23.9  21.82 21.44\n",
      " 23.9  23.9  23.9  22.74 20.18 20.28 20.28 18.06 18.8  20.72 20.72 19.58\n",
      " 19.36 19.36 19.58 19.58 19.58 27.08 20.2  26.28 26.28 24.84 24.84 24.84\n",
      " 24.82 22.36 22.36 25.68 22.28 22.22 21.54 21.54 21.76 20.02 20.2  19.6\n",
      " 19.66 20.02 19.68 19.6  22.86 27.4  19.68 14.9  23.84 24.68 22.78 20.7\n",
      " 20.68 16.48 11.58 12.16 16.02 14.96  8.98 10.68  9.24 12.18 19.98 19.22\n",
      " 12.58 11.14  8.44 10.68 15.02 20.22 15.98 19.9  16.48 21.84 12.74 21.84\n",
      " 17.68 14.64  9.54 12.68  9.58 13.42 13.54  9.58  9.28  9.24 11.3  15.88\n",
      " 13.2  16.58  9.28 14.64 11.58 10.22  9.28 11.5  12.7   9.58  9.24 11.24\n",
      " 11.56 14.74 15.88 14.74 19.92 12.18 17.96  9.54 13.3  20.56 14.54 14.96\n",
      " 15.44 23.62 13.18 11.56 16.58 12.18 12.02 11.24 10.34 14.42 17.46 14.5\n",
      " 14.92 12.8  15.26 14.36 20.7  14.74 22.78 24.68 18.56 14.66 13.38 17.66\n",
      " 18.98 22.34 13.76 16.44 20.4  20.74 16.76 24.14 14.76 20.54 19.48 18.22\n",
      " 12.18 12.44 21.24 20.74 20.74 20.4  19.22 16.76 17.66 11.66 12.14 13.42\n",
      " 18.64 26.82 26.82 20.42 21.34 20.74 17.46 18.24 12.8  12.8  12.8  12.8\n",
      " 12.8  21.04 20.52 21.04 20.08 21.78 20.52 20.08 20.52 20.16 20.16 20.16\n",
      " 20.16 20.16]\n"
     ]
    }
   ],
   "source": [
    "print(knn.predict(X))"
   ]
  },
  {
   "cell_type": "code",
   "execution_count": 78,
   "id": "e839bfab",
   "metadata": {},
   "outputs": [
    {
     "data": {
      "text/plain": [
       "0.7430371362180326"
      ]
     },
     "execution_count": 78,
     "metadata": {},
     "output_type": "execute_result"
    }
   ],
   "source": [
    "knn.score(X,y)"
   ]
  },
  {
   "cell_type": "code",
   "execution_count": 99,
   "id": "956fb76c",
   "metadata": {},
   "outputs": [
    {
     "name": "stdout",
     "output_type": "stream",
     "text": [
      "[-90.62786588235294, -77.56825735294119, -72.0206311111111, -73.78797995098037, -76.17554771764705, -77.12129993464052, -77.6024732372949, -79.07771129901961, -80.99596266279352, -82.7587742235294, -81.45516427807486, -82.43518998638343, -83.15495003132614, -84.00177419767905, -85.05588203224401, -85.82693711397057, -85.87465989415836, -86.72110790486565, -87.84125263918308, -88.97916527843135, -89.85598700280113, -90.69426488575596, -90.11680032766225, -89.10140855392157, -88.19143835482353, -87.08944237324515, -86.09374192420452, -84.74715148059224, -83.52781704366882, -82.94644507102394]\n"
     ]
    }
   ],
   "source": [
    "#Lets seach for the optimal value for k\n",
    "from sklearn.model_selection import cross_val_score\n",
    "from sklearn import metrics\n",
    "k_range = range(1,31)\n",
    "k_score=[]\n",
    "for k in k_range:\n",
    "    knn = KNeighborsRegressor(n_neighbors=k)\n",
    "    scores = cross_val_score(knn, X,y, cv=10, scoring='neg_mean_squared_error')\n",
    "    k_score.append(scores.mean())\n",
    "print((k_score))"
   ]
  },
  {
   "cell_type": "code",
   "execution_count": 80,
   "id": "31279b52",
   "metadata": {},
   "outputs": [
    {
     "data": {
      "text/plain": [
       "Text(0, 0.5, 'cross val accuracy')"
      ]
     },
     "execution_count": 80,
     "metadata": {},
     "output_type": "execute_result"
    },
    {
     "data": {
      "image/png": "[encoded data removed]",
      "text/plain": [
       "<Figure size 432x288 with 1 Axes>"
      ]
     },
     "metadata": {
      "needs_background": "light"
     },
     "output_type": "display_data"
    }
   ],
   "source": [
    "import matplotlib.pyplot as plt\n",
    "%matplotlib inline\n",
    "# ploting the value of k for knn (x-axis) vs the cross val.(y-axis)\n",
    "plt.plot(k_range, k_score)\n",
    "plt.xlabel('Value of k')\n",
    "plt.ylabel('cross val accuracy')"
   ]
  },
  {
   "cell_type": "code",
   "execution_count": 94,
   "id": "8d8275e8",
   "metadata": {},
   "outputs": [
    {
     "data": {
      "text/plain": [
       "KNeighborsRegressor(n_neighbors=2)"
      ]
     },
     "execution_count": 94,
     "metadata": {},
     "output_type": "execute_result"
    }
   ],
   "source": [
    "knn1  =  KNeighborsRegressor(n_neighbors=2)\n",
    "knn1.fit(X,y)"
   ]
  },
  {
   "cell_type": "code",
   "execution_count": 95,
   "id": "7c3e6613",
   "metadata": {},
   "outputs": [
    {
     "name": "stdout",
     "output_type": "stream",
     "text": [
      "[26.7  28.15 28.15 30.8  36.15 28.55 20.9  23.   19.1  18.9  21.05 20.9\n",
      " 20.3  22.35 19.3  18.25 18.8  18.55 17.05 17.4  13.35 18.55 14.85 18.8\n",
      " 16.55 17.05 18.25 17.2  24.25 19.7  12.9  13.85 13.85 12.9  14.   19.95\n",
      " 20.5  20.5  21.8  32.85 32.85 25.65 25.   25.   23.25 19.35 19.65 18.9\n",
      " 16.9  19.35 21.55 21.95 22.75 21.55 16.1  41.95 19.85 40.8  19.65 17.8\n",
      " 19.15 17.8  23.6  23.6  34.2  21.45 21.45 21.45 19.15 21.45 23.8  22.25\n",
      " 22.25 23.8  22.75 20.7  20.7  21.   22.65 20.55 25.95 25.95 23.85 23.85\n",
      " 25.25 25.25 22.35 22.35 26.15 26.15 22.3  22.3  22.75 22.8  22.8  28.55\n",
      " 22.2  41.25 41.25 38.5  27.   27.   19.2  19.7  20.25 19.5  19.5  20.25\n",
      " 19.2  19.35 20.9  20.65 19.6  18.95 19.85 18.55 19.85 18.75 19.6  19.85\n",
      " 20.4  20.4  20.4  18.05 20.4  20.95 16.5  17.3  18.6  14.95 18.15 21.3\n",
      " 20.55 15.85 14.95 20.55 15.35 18.15 15.85 17.95 15.7  14.35 14.4  14.5\n",
      " 13.2  18.8  17.5  16.2  15.45 14.25 19.25 17.45 17.45 17.5  20.65 20.3\n",
      " 15.45 32.3  20.65 25.15 22.   50.   50.   50.   20.9  20.2  50.   22.65\n",
      " 23.05 23.05 20.85 20.9  22.85 24.1  22.9  26.7  22.9  24.1  26.95 37.55\n",
      " 44.9  32.9  37.55 31.05 31.3  32.9  44.9  31.25 30.15 35.65 34.5  31.25\n",
      " 35.65 30.1  30.1  41.6  33.95 31.7  33.95 33.9  33.9  33.2  33.2  49.25\n",
      " 49.25 22.15 26.25 22.45 23.05 19.65 22.15 19.65 22.45 26.25 21.5  24.7\n",
      " 22.4  28.55 22.4  22.2  29.15 22.85 28.25 27.6  46.55 45.85 42.95 29.15\n",
      " 39.2  28.3  22.35 31.6  45.   46.55 27.05 22.85 27.6  31.6  22.85 23.5\n",
      " 22.65 21.15 22.95 22.95 18.05 18.05 22.4  22.4  24.65 25.3  24.45 24.65\n",
      " 27.9  36.2  21.4  21.4  40.65 49.4  33.5  30.4  35.15 43.3  49.4  33.5\n",
      " 35.15 26.45 30.4  49.4  43.3  20.9  20.9  24.8  24.8  41.85 32.75 32.55\n",
      " 32.6  32.55 30.75 35.25 45.7  34.2  45.7  50.   32.45 22.85 20.85 22.75\n",
      " 22.75 23.55 28.2  32.9  28.2  22.8  22.8  27.85 27.85 21.   23.65 26.9\n",
      " 26.9  24.2  24.2  31.7  36.15 28.55 34.75 30.8  23.3  19.05 19.1  21.55\n",
      " 19.85 22.35 23.3  18.   19.05 18.   22.35 20.65 24.2  23.45 21.3  19.45\n",
      " 24.   24.2  24.   21.3  19.55 21.2  21.2  16.65 19.4  21.45 21.45 20.85\n",
      " 19.   19.   20.85 18.85 18.85 28.85 19.55 27.55 27.55 17.35 17.35 20.3\n",
      " 24.2  24.75 24.75 21.35 21.35 25.2  19.4  19.4  33.9  20.8  22.95 21.25\n",
      " 19.55 20.8  21.35 17.95 25.85 38.75 21.35 16.65 35.3  36.85 31.7  32.05\n",
      " 31.75 11.75 15.85 11.1  11.3  13.7   9.35  8.7   9.6  12.4  12.05 13.05\n",
      " 10.35  7.75  9.4   8.95 11.1  12.65 14.65 22.95 11.75 14.15 10.55 13.8\n",
      " 16.35 12.85  7.95  9.45  6.95 14.3  14.6   6.95  6.75  6.9  10.35 24.35\n",
      " 12.85 18.55 11.   12.2  15.85 13.35  7.75  8.7  10.45  8.    6.9  10.9\n",
      " 15.05 13.8  24.35 13.8  11.5  13.7  15.5   7.95 12.   11.8  14.15 13.7\n",
      " 15.5  16.35  9.45 15.05  8.4  13.9  10.55 12.05  8.95 14.6  18.75 14.\n",
      " 15.45  9.65 15.5  14.   32.05 13.95 31.7  32.6  19.4  15.45 14.1  15.4\n",
      " 16.65 31.75 18.15 17.1  15.25 19.45 17.8  16.35 18.15 20.85 19.45 19.5\n",
      " 13.7  15.45 21.25 19.75 20.45 23.1  12.65 14.1  15.4  11.1  13.6  14.3\n",
      " 20.7  36.85 24.35 20.85 21.2  19.45 18.75 16.65 11.1  11.1   7.55 16.85\n",
      " 16.85 22.45 22.85 22.45 18.6  20.05 19.   20.3  19.   22.2  16.25 22.95\n",
      " 22.95 16.25]\n"
     ]
    }
   ],
   "source": [
    "print(knn1.predict(X))"
   ]
  },
  {
   "cell_type": "code",
   "execution_count": 96,
   "id": "75c6fbc0",
   "metadata": {},
   "outputs": [
    {
     "data": {
      "text/plain": [
       "0.856872653852603"
      ]
     },
     "execution_count": 96,
     "metadata": {},
     "output_type": "execute_result"
    }
   ],
   "source": [
    "knn1.score(X,y)"
   ]
  },
  {
   "cell_type": "code",
   "execution_count": null,
   "id": "fc2183c0",
   "metadata": {},
   "outputs": [],
   "source": []
  }
 ],
 "metadata": {
  "kernelspec": {
   "display_name": "Python 3",
   "language": "python",
   "name": "python3"
  },
  "language_info": {
   "codemirror_mode": {
    "name": "ipython",
    "version": 3
   },
   "file_extension": ".py",
   "mimetype": "text/x-python",
   "name": "python",
   "nbconvert_exporter": "python",
   "pygments_lexer": "ipython3",
   "version": "3.8.8"
  }
 },
 "nbformat": 4,
 "nbformat_minor": 5
}
