{
 "cells": [
  {
   "cell_type": "code",
   "execution_count": 1,
   "id": "1bbee4bc",
   "metadata": {},
   "outputs": [],
   "source": [
    "import pandas as pd\n",
    "import numpy as np\n",
    "import matplotlib.pyplot as plt\n",
    "import seaborn as sns"
   ]
  },
  {
   "cell_type": "code",
   "execution_count": 13,
   "id": "db5d6530",
   "metadata": {},
   "outputs": [],
   "source": [
    "df = pd.read_json('C://Users//HP//Downloads//user//user_info.json')\n",
    "#print(df.to_string())"
   ]
  },
  {
   "cell_type": "code",
   "execution_count": 14,
   "id": "821a3e90",
   "metadata": {},
   "outputs": [
    {
     "data": {
      "text/html": [
       "<div>\n",
       "<style scoped>\n",
       "    .dataframe tbody tr th:only-of-type {\n",
       "        vertical-align: middle;\n",
       "    }\n",
       "\n",
       "    .dataframe tbody tr th {\n",
       "        vertical-align: top;\n",
       "    }\n",
       "\n",
       "    .dataframe thead th {\n",
       "        text-align: right;\n",
       "    }\n",
       "</style>\n",
       "<table border=\"1\" class=\"dataframe\">\n",
       "  <thead>\n",
       "    <tr style=\"text-align: right;\">\n",
       "      <th></th>\n",
       "      <th>_id</th>\n",
       "      <th>index</th>\n",
       "      <th>guid</th>\n",
       "      <th>isActive</th>\n",
       "      <th>balance</th>\n",
       "      <th>picture</th>\n",
       "      <th>age</th>\n",
       "      <th>eyeColor</th>\n",
       "      <th>name</th>\n",
       "      <th>gender</th>\n",
       "      <th>...</th>\n",
       "      <th>phone</th>\n",
       "      <th>address</th>\n",
       "      <th>about</th>\n",
       "      <th>registered</th>\n",
       "      <th>latitude</th>\n",
       "      <th>longitude</th>\n",
       "      <th>tags</th>\n",
       "      <th>friends</th>\n",
       "      <th>greeting</th>\n",
       "      <th>favoriteFruit</th>\n",
       "    </tr>\n",
       "  </thead>\n",
       "  <tbody>\n",
       "    <tr>\n",
       "      <th>0</th>\n",
       "      <td>5c0a28d7a647437fd3d3a6aa</td>\n",
       "      <td>0</td>\n",
       "      <td>832f1af4-fb18-4ba8-b032-f4cbf343dbe9</td>\n",
       "      <td>False</td>\n",
       "      <td>$3,806.93</td>\n",
       "      <td>http://placehold.it/32x32</td>\n",
       "      <td>20</td>\n",
       "      <td>green</td>\n",
       "      <td>Grace Berry</td>\n",
       "      <td>female</td>\n",
       "      <td>...</td>\n",
       "      <td>+1 (814) 555-3298</td>\n",
       "      <td>698 Kansas Place, Bethpage, Louisiana, 7695</td>\n",
       "      <td>Nostrud consectetur elit occaecat dolore incid...</td>\n",
       "      <td>2015-12-09T08:21:48 -06:-30</td>\n",
       "      <td>-65.630631</td>\n",
       "      <td>131.991768</td>\n",
       "      <td>[eu, id, fugiat, deserunt, nulla, proident, la...</td>\n",
       "      <td>[{'id': 0, 'name': 'Small Pena'}, {'id': 1, 'n...</td>\n",
       "      <td>Hello, Grace Berry! You have 1 unread messages.</td>\n",
       "      <td>strawberry</td>\n",
       "    </tr>\n",
       "    <tr>\n",
       "      <th>1</th>\n",
       "      <td>5c0a28d780f6278b11586ab1</td>\n",
       "      <td>1</td>\n",
       "      <td>4306cb37-9506-48c2-8ccf-e69a063589ee</td>\n",
       "      <td>True</td>\n",
       "      <td>$3,330.01</td>\n",
       "      <td>http://placehold.it/32x32</td>\n",
       "      <td>22</td>\n",
       "      <td>brown</td>\n",
       "      <td>Hilary Sellers</td>\n",
       "      <td>female</td>\n",
       "      <td>...</td>\n",
       "      <td>+1 (942) 536-3059</td>\n",
       "      <td>309 Kingsway Place, Kilbourne, New York, 3771</td>\n",
       "      <td>Sunt id ipsum velit voluptate. Ullamco non non...</td>\n",
       "      <td>2014-12-15T11:42:39 -06:-30</td>\n",
       "      <td>38.790260</td>\n",
       "      <td>48.442002</td>\n",
       "      <td>[deserunt, do, adipisicing, in, aliqua, duis, ...</td>\n",
       "      <td>[{'id': 0, 'name': 'Spears Smith'}, {'id': 1, ...</td>\n",
       "      <td>Hello, Hilary Sellers! You have 4 unread messa...</td>\n",
       "      <td>apple</td>\n",
       "    </tr>\n",
       "    <tr>\n",
       "      <th>2</th>\n",
       "      <td>5c0a28d722e2e29d9bce2b64</td>\n",
       "      <td>2</td>\n",
       "      <td>5019e436-7cc4-48ee-a384-3483131f8ee1</td>\n",
       "      <td>True</td>\n",
       "      <td>$1,619.46</td>\n",
       "      <td>http://placehold.it/32x32</td>\n",
       "      <td>40</td>\n",
       "      <td>green</td>\n",
       "      <td>Sherri Gilbert</td>\n",
       "      <td>female</td>\n",
       "      <td>...</td>\n",
       "      <td>+1 (954) 591-2183</td>\n",
       "      <td>347 Seeley Street, Witmer, Kansas, 9369</td>\n",
       "      <td>Laborum ad excepteur amet sunt aliqua veniam c...</td>\n",
       "      <td>2014-10-31T05:02:03 -06:-30</td>\n",
       "      <td>34.404508</td>\n",
       "      <td>-116.452211</td>\n",
       "      <td>[adipisicing, cillum, deserunt, aute, ipsum, c...</td>\n",
       "      <td>[{'id': 0, 'name': 'Sexton Watts'}, {'id': 1, ...</td>\n",
       "      <td>Hello, Sherri Gilbert! You have 1 unread messa...</td>\n",
       "      <td>apple</td>\n",
       "    </tr>\n",
       "    <tr>\n",
       "      <th>3</th>\n",
       "      <td>5c0a28d76b5e8859a754cb4f</td>\n",
       "      <td>3</td>\n",
       "      <td>d2c4b1eb-2974-463a-b288-d1dae5dec187</td>\n",
       "      <td>False</td>\n",
       "      <td>$3,334.12</td>\n",
       "      <td>http://placehold.it/32x32</td>\n",
       "      <td>29</td>\n",
       "      <td>blue</td>\n",
       "      <td>Caldwell Patterson</td>\n",
       "      <td>male</td>\n",
       "      <td>...</td>\n",
       "      <td>+1 (815) 400-3780</td>\n",
       "      <td>178 Stewart Street, Ferney, Wyoming, 9118</td>\n",
       "      <td>Eu amet aliqua magna ipsum quis et ut reprehen...</td>\n",
       "      <td>2018-04-02T03:06:31 -06:-30</td>\n",
       "      <td>-63.424959</td>\n",
       "      <td>-51.151783</td>\n",
       "      <td>[adipisicing, veniam, dolor, duis, aute, tempo...</td>\n",
       "      <td>[{'id': 0, 'name': 'Anne Holcomb'}, {'id': 1, ...</td>\n",
       "      <td>Hello, Caldwell Patterson! You have 6 unread m...</td>\n",
       "      <td>strawberry</td>\n",
       "    </tr>\n",
       "    <tr>\n",
       "      <th>4</th>\n",
       "      <td>5c0a28d7ebb99c08e2288c76</td>\n",
       "      <td>4</td>\n",
       "      <td>df0b59ed-2e81-43f1-9ae0-16f138e738be</td>\n",
       "      <td>False</td>\n",
       "      <td>$1,368.48</td>\n",
       "      <td>http://placehold.it/32x32</td>\n",
       "      <td>33</td>\n",
       "      <td>brown</td>\n",
       "      <td>Head Mcconnell</td>\n",
       "      <td>male</td>\n",
       "      <td>...</td>\n",
       "      <td>+1 (820) 573-3154</td>\n",
       "      <td>189 Rogers Avenue, Lindisfarne, Mississippi, 1961</td>\n",
       "      <td>Sunt amet exercitation aliqua cillum commodo o...</td>\n",
       "      <td>2016-01-06T09:38:15 -06:-30</td>\n",
       "      <td>-80.136744</td>\n",
       "      <td>176.780600</td>\n",
       "      <td>[qui, aute, voluptate, eiusmod, est, est, cupi...</td>\n",
       "      <td>[{'id': 0, 'name': 'Elnora Peck'}, {'id': 1, '...</td>\n",
       "      <td>Hello, Head Mcconnell! You have 5 unread messa...</td>\n",
       "      <td>strawberry</td>\n",
       "    </tr>\n",
       "  </tbody>\n",
       "</table>\n",
       "<p>5 rows × 22 columns</p>\n",
       "</div>"
      ],
      "text/plain": [
       "                        _id  index                                  guid  \\\n",
       "0  5c0a28d7a647437fd3d3a6aa      0  832f1af4-fb18-4ba8-b032-f4cbf343dbe9   \n",
       "1  5c0a28d780f6278b11586ab1      1  4306cb37-9506-48c2-8ccf-e69a063589ee   \n",
       "2  5c0a28d722e2e29d9bce2b64      2  5019e436-7cc4-48ee-a384-3483131f8ee1   \n",
       "3  5c0a28d76b5e8859a754cb4f      3  d2c4b1eb-2974-463a-b288-d1dae5dec187   \n",
       "4  5c0a28d7ebb99c08e2288c76      4  df0b59ed-2e81-43f1-9ae0-16f138e738be   \n",
       "\n",
       "   isActive    balance                    picture  age eyeColor  \\\n",
       "0     False  $3,806.93  http://placehold.it/32x32   20    green   \n",
       "1      True  $3,330.01  http://placehold.it/32x32   22    brown   \n",
       "2      True  $1,619.46  http://placehold.it/32x32   40    green   \n",
       "3     False  $3,334.12  http://placehold.it/32x32   29     blue   \n",
       "4     False  $1,368.48  http://placehold.it/32x32   33    brown   \n",
       "\n",
       "                 name  gender  ...              phone  \\\n",
       "0         Grace Berry  female  ...  +1 (814) 555-3298   \n",
       "1      Hilary Sellers  female  ...  +1 (942) 536-3059   \n",
       "2      Sherri Gilbert  female  ...  +1 (954) 591-2183   \n",
       "3  Caldwell Patterson    male  ...  +1 (815) 400-3780   \n",
       "4      Head Mcconnell    male  ...  +1 (820) 573-3154   \n",
       "\n",
       "                                             address  \\\n",
       "0        698 Kansas Place, Bethpage, Louisiana, 7695   \n",
       "1      309 Kingsway Place, Kilbourne, New York, 3771   \n",
       "2            347 Seeley Street, Witmer, Kansas, 9369   \n",
       "3          178 Stewart Street, Ferney, Wyoming, 9118   \n",
       "4  189 Rogers Avenue, Lindisfarne, Mississippi, 1961   \n",
       "\n",
       "                                               about  \\\n",
       "0  Nostrud consectetur elit occaecat dolore incid...   \n",
       "1  Sunt id ipsum velit voluptate. Ullamco non non...   \n",
       "2  Laborum ad excepteur amet sunt aliqua veniam c...   \n",
       "3  Eu amet aliqua magna ipsum quis et ut reprehen...   \n",
       "4  Sunt amet exercitation aliqua cillum commodo o...   \n",
       "\n",
       "                    registered   latitude   longitude  \\\n",
       "0  2015-12-09T08:21:48 -06:-30 -65.630631  131.991768   \n",
       "1  2014-12-15T11:42:39 -06:-30  38.790260   48.442002   \n",
       "2  2014-10-31T05:02:03 -06:-30  34.404508 -116.452211   \n",
       "3  2018-04-02T03:06:31 -06:-30 -63.424959  -51.151783   \n",
       "4  2016-01-06T09:38:15 -06:-30 -80.136744  176.780600   \n",
       "\n",
       "                                                tags  \\\n",
       "0  [eu, id, fugiat, deserunt, nulla, proident, la...   \n",
       "1  [deserunt, do, adipisicing, in, aliqua, duis, ...   \n",
       "2  [adipisicing, cillum, deserunt, aute, ipsum, c...   \n",
       "3  [adipisicing, veniam, dolor, duis, aute, tempo...   \n",
       "4  [qui, aute, voluptate, eiusmod, est, est, cupi...   \n",
       "\n",
       "                                             friends  \\\n",
       "0  [{'id': 0, 'name': 'Small Pena'}, {'id': 1, 'n...   \n",
       "1  [{'id': 0, 'name': 'Spears Smith'}, {'id': 1, ...   \n",
       "2  [{'id': 0, 'name': 'Sexton Watts'}, {'id': 1, ...   \n",
       "3  [{'id': 0, 'name': 'Anne Holcomb'}, {'id': 1, ...   \n",
       "4  [{'id': 0, 'name': 'Elnora Peck'}, {'id': 1, '...   \n",
       "\n",
       "                                            greeting favoriteFruit  \n",
       "0    Hello, Grace Berry! You have 1 unread messages.    strawberry  \n",
       "1  Hello, Hilary Sellers! You have 4 unread messa...         apple  \n",
       "2  Hello, Sherri Gilbert! You have 1 unread messa...         apple  \n",
       "3  Hello, Caldwell Patterson! You have 6 unread m...    strawberry  \n",
       "4  Hello, Head Mcconnell! You have 5 unread messa...    strawberry  \n",
       "\n",
       "[5 rows x 22 columns]"
      ]
     },
     "execution_count": 14,
     "metadata": {},
     "output_type": "execute_result"
    }
   ],
   "source": [
    "df.head()"
   ]
  },
  {
   "cell_type": "code",
   "execution_count": 16,
   "id": "795722f1",
   "metadata": {},
   "outputs": [
    {
     "data": {
      "text/plain": [
       "(6, 22)"
      ]
     },
     "execution_count": 16,
     "metadata": {},
     "output_type": "execute_result"
    }
   ],
   "source": [
    "df.shape"
   ]
  },
  {
   "cell_type": "code",
   "execution_count": 23,
   "id": "fa6f0ef4",
   "metadata": {},
   "outputs": [
    {
     "data": {
      "text/plain": [
       "Text(0, 0.5, 'Activeness')"
      ]
     },
     "execution_count": 23,
     "metadata": {},
     "output_type": "execute_result"
    },
    {
     "data": {
      "image/png": "[encoded data removed]",
      "text/plain": [
       "<Figure size 432x288 with 1 Axes>"
      ]
     },
     "metadata": {
      "needs_background": "light"
     },
     "output_type": "display_data"
    }
   ],
   "source": [
    "plt.plot(df['balance'], df['isActive'])\n",
    "plt.xlabel('Balance')\n",
    "plt.ylabel('Activeness')"
   ]
  },
  {
   "cell_type": "code",
   "execution_count": 31,
   "id": "5308996f",
   "metadata": {},
   "outputs": [
    {
     "data": {
      "text/plain": [
       "Text(0, 0.5, 'Activeness')"
      ]
     },
     "execution_count": 31,
     "metadata": {},
     "output_type": "execute_result"
    },
    {
     "data": {
      "image/png": "[encoded data removed]",
      "text/plain": [
       "<Figure size 432x288 with 1 Axes>"
      ]
     },
     "metadata": {
      "needs_background": "light"
     },
     "output_type": "display_data"
    }
   ],
   "source": [
    "plt.plot(df['age'], df['isActive'], c='r')\n",
    "plt.xlabel('age')\n",
    "plt.ylabel('Activeness')"
   ]
  },
  {
   "cell_type": "code",
   "execution_count": 34,
   "id": "796f644e",
   "metadata": {},
   "outputs": [
    {
     "data": {
      "text/plain": [
       "Text(0, 0.5, 'Activeness')"
      ]
     },
     "execution_count": 34,
     "metadata": {},
     "output_type": "execute_result"
    },
    {
     "data": {
      "image/png": "[encoded data removed]",
      "text/plain": [
       "<Figure size 432x288 with 1 Axes>"
      ]
     },
     "metadata": {
      "needs_background": "light"
     },
     "output_type": "display_data"
    }
   ],
   "source": [
    "plt.plot(df['eyeColor'], df['isActive'], c='pink')\n",
    "plt.xlabel('Eye_Color')\n",
    "plt.ylabel('Activeness')"
   ]
  },
  {
   "cell_type": "code",
   "execution_count": 36,
   "id": "3645cca8",
   "metadata": {},
   "outputs": [
    {
     "data": {
      "text/plain": [
       "Text(0, 0.5, 'Activeness')"
      ]
     },
     "execution_count": 36,
     "metadata": {},
     "output_type": "execute_result"
    },
    {
     "data": {
      "image/png": "[encoded data removed]",
      "text/plain": [
       "<Figure size 432x288 with 1 Axes>"
      ]
     },
     "metadata": {
      "needs_background": "light"
     },
     "output_type": "display_data"
    }
   ],
   "source": [
    "plt.plot(df['favoriteFruit'], df['isActive'], c='g')\n",
    "plt.xlabel('favoriteFruit')\n",
    "plt.ylabel('Activeness')"
   ]
  },
  {
   "cell_type": "code",
   "execution_count": 42,
   "id": "ed55c68b",
   "metadata": {},
   "outputs": [
    {
     "data": {
      "text/plain": [
       "Text(0, 0.5, 'Activeness')"
      ]
     },
     "execution_count": 42,
     "metadata": {},
     "output_type": "execute_result"
    },
    {
     "data": {
      "image/png": "[encoded data removed]",
      "text/plain": [
       "<Figure size 432x288 with 1 Axes>"
      ]
     },
     "metadata": {
      "needs_background": "light"
     },
     "output_type": "display_data"
    }
   ],
   "source": [
    "plt.plot(df['gender'], df['isActive'])\n",
    "plt.xlabel('gender')\n",
    "plt.ylabel('Activeness')"
   ]
  },
  {
   "cell_type": "code",
   "execution_count": 37,
   "id": "d147a23c",
   "metadata": {},
   "outputs": [
    {
     "name": "stdout",
     "output_type": "stream",
     "text": [
      "<class 'pandas.core.frame.DataFrame'>\n",
      "RangeIndex: 6 entries, 0 to 5\n",
      "Data columns (total 22 columns):\n",
      " #   Column         Non-Null Count  Dtype  \n",
      "---  ------         --------------  -----  \n",
      " 0   _id            6 non-null      object \n",
      " 1   index          6 non-null      int64  \n",
      " 2   guid           6 non-null      object \n",
      " 3   isActive       6 non-null      bool   \n",
      " 4   balance        6 non-null      object \n",
      " 5   picture        6 non-null      object \n",
      " 6   age            6 non-null      int64  \n",
      " 7   eyeColor       6 non-null      object \n",
      " 8   name           6 non-null      object \n",
      " 9   gender         6 non-null      object \n",
      " 10  company        6 non-null      object \n",
      " 11  email          6 non-null      object \n",
      " 12  phone          6 non-null      object \n",
      " 13  address        6 non-null      object \n",
      " 14  about          6 non-null      object \n",
      " 15  registered     6 non-null      object \n",
      " 16  latitude       6 non-null      float64\n",
      " 17  longitude      6 non-null      float64\n",
      " 18  tags           6 non-null      object \n",
      " 19  friends        6 non-null      object \n",
      " 20  greeting       6 non-null      object \n",
      " 21  favoriteFruit  6 non-null      object \n",
      "dtypes: bool(1), float64(2), int64(2), object(17)\n",
      "memory usage: 1.1+ KB\n"
     ]
    }
   ],
   "source": [
    "df.info()"
   ]
  },
  {
   "cell_type": "code",
   "execution_count": 40,
   "id": "106e5804",
   "metadata": {},
   "outputs": [
    {
     "data": {
      "text/html": [
       "<div>\n",
       "<style scoped>\n",
       "    .dataframe tbody tr th:only-of-type {\n",
       "        vertical-align: middle;\n",
       "    }\n",
       "\n",
       "    .dataframe tbody tr th {\n",
       "        vertical-align: top;\n",
       "    }\n",
       "\n",
       "    .dataframe thead th {\n",
       "        text-align: right;\n",
       "    }\n",
       "</style>\n",
       "<table border=\"1\" class=\"dataframe\">\n",
       "  <thead>\n",
       "    <tr style=\"text-align: right;\">\n",
       "      <th></th>\n",
       "      <th>_id</th>\n",
       "      <th>index</th>\n",
       "      <th>guid</th>\n",
       "      <th>isActive</th>\n",
       "      <th>balance</th>\n",
       "      <th>picture</th>\n",
       "      <th>age</th>\n",
       "      <th>eyeColor</th>\n",
       "      <th>name</th>\n",
       "      <th>gender</th>\n",
       "      <th>...</th>\n",
       "      <th>phone</th>\n",
       "      <th>address</th>\n",
       "      <th>about</th>\n",
       "      <th>registered</th>\n",
       "      <th>latitude</th>\n",
       "      <th>longitude</th>\n",
       "      <th>tags</th>\n",
       "      <th>friends</th>\n",
       "      <th>greeting</th>\n",
       "      <th>favoriteFruit</th>\n",
       "    </tr>\n",
       "  </thead>\n",
       "  <tbody>\n",
       "    <tr>\n",
       "      <th>0</th>\n",
       "      <td>5c0a28d7a647437fd3d3a6aa</td>\n",
       "      <td>0</td>\n",
       "      <td>832f1af4-fb18-4ba8-b032-f4cbf343dbe9</td>\n",
       "      <td>False</td>\n",
       "      <td>$3,806.93</td>\n",
       "      <td>http://placehold.it/32x32</td>\n",
       "      <td>20</td>\n",
       "      <td>green</td>\n",
       "      <td>Grace Berry</td>\n",
       "      <td>female</td>\n",
       "      <td>...</td>\n",
       "      <td>+1 (814) 555-3298</td>\n",
       "      <td>698 Kansas Place, Bethpage, Louisiana, 7695</td>\n",
       "      <td>Nostrud consectetur elit occaecat dolore incid...</td>\n",
       "      <td>2015-12-09T08:21:48 -06:-30</td>\n",
       "      <td>-65.630631</td>\n",
       "      <td>131.991768</td>\n",
       "      <td>[eu, id, fugiat, deserunt, nulla, proident, la...</td>\n",
       "      <td>[{'id': 0, 'name': 'Small Pena'}, {'id': 1, 'n...</td>\n",
       "      <td>Hello, Grace Berry! You have 1 unread messages.</td>\n",
       "      <td>strawberry</td>\n",
       "    </tr>\n",
       "    <tr>\n",
       "      <th>1</th>\n",
       "      <td>5c0a28d780f6278b11586ab1</td>\n",
       "      <td>1</td>\n",
       "      <td>4306cb37-9506-48c2-8ccf-e69a063589ee</td>\n",
       "      <td>True</td>\n",
       "      <td>$3,330.01</td>\n",
       "      <td>http://placehold.it/32x32</td>\n",
       "      <td>22</td>\n",
       "      <td>brown</td>\n",
       "      <td>Hilary Sellers</td>\n",
       "      <td>female</td>\n",
       "      <td>...</td>\n",
       "      <td>+1 (942) 536-3059</td>\n",
       "      <td>309 Kingsway Place, Kilbourne, New York, 3771</td>\n",
       "      <td>Sunt id ipsum velit voluptate. Ullamco non non...</td>\n",
       "      <td>2014-12-15T11:42:39 -06:-30</td>\n",
       "      <td>38.790260</td>\n",
       "      <td>48.442002</td>\n",
       "      <td>[deserunt, do, adipisicing, in, aliqua, duis, ...</td>\n",
       "      <td>[{'id': 0, 'name': 'Spears Smith'}, {'id': 1, ...</td>\n",
       "      <td>Hello, Hilary Sellers! You have 4 unread messa...</td>\n",
       "      <td>apple</td>\n",
       "    </tr>\n",
       "    <tr>\n",
       "      <th>2</th>\n",
       "      <td>5c0a28d722e2e29d9bce2b64</td>\n",
       "      <td>2</td>\n",
       "      <td>5019e436-7cc4-48ee-a384-3483131f8ee1</td>\n",
       "      <td>True</td>\n",
       "      <td>$1,619.46</td>\n",
       "      <td>http://placehold.it/32x32</td>\n",
       "      <td>40</td>\n",
       "      <td>green</td>\n",
       "      <td>Sherri Gilbert</td>\n",
       "      <td>female</td>\n",
       "      <td>...</td>\n",
       "      <td>+1 (954) 591-2183</td>\n",
       "      <td>347 Seeley Street, Witmer, Kansas, 9369</td>\n",
       "      <td>Laborum ad excepteur amet sunt aliqua veniam c...</td>\n",
       "      <td>2014-10-31T05:02:03 -06:-30</td>\n",
       "      <td>34.404508</td>\n",
       "      <td>-116.452211</td>\n",
       "      <td>[adipisicing, cillum, deserunt, aute, ipsum, c...</td>\n",
       "      <td>[{'id': 0, 'name': 'Sexton Watts'}, {'id': 1, ...</td>\n",
       "      <td>Hello, Sherri Gilbert! You have 1 unread messa...</td>\n",
       "      <td>apple</td>\n",
       "    </tr>\n",
       "    <tr>\n",
       "      <th>3</th>\n",
       "      <td>5c0a28d76b5e8859a754cb4f</td>\n",
       "      <td>3</td>\n",
       "      <td>d2c4b1eb-2974-463a-b288-d1dae5dec187</td>\n",
       "      <td>False</td>\n",
       "      <td>$3,334.12</td>\n",
       "      <td>http://placehold.it/32x32</td>\n",
       "      <td>29</td>\n",
       "      <td>blue</td>\n",
       "      <td>Caldwell Patterson</td>\n",
       "      <td>male</td>\n",
       "      <td>...</td>\n",
       "      <td>+1 (815) 400-3780</td>\n",
       "      <td>178 Stewart Street, Ferney, Wyoming, 9118</td>\n",
       "      <td>Eu amet aliqua magna ipsum quis et ut reprehen...</td>\n",
       "      <td>2018-04-02T03:06:31 -06:-30</td>\n",
       "      <td>-63.424959</td>\n",
       "      <td>-51.151783</td>\n",
       "      <td>[adipisicing, veniam, dolor, duis, aute, tempo...</td>\n",
       "      <td>[{'id': 0, 'name': 'Anne Holcomb'}, {'id': 1, ...</td>\n",
       "      <td>Hello, Caldwell Patterson! You have 6 unread m...</td>\n",
       "      <td>strawberry</td>\n",
       "    </tr>\n",
       "    <tr>\n",
       "      <th>4</th>\n",
       "      <td>5c0a28d7ebb99c08e2288c76</td>\n",
       "      <td>4</td>\n",
       "      <td>df0b59ed-2e81-43f1-9ae0-16f138e738be</td>\n",
       "      <td>False</td>\n",
       "      <td>$1,368.48</td>\n",
       "      <td>http://placehold.it/32x32</td>\n",
       "      <td>33</td>\n",
       "      <td>brown</td>\n",
       "      <td>Head Mcconnell</td>\n",
       "      <td>male</td>\n",
       "      <td>...</td>\n",
       "      <td>+1 (820) 573-3154</td>\n",
       "      <td>189 Rogers Avenue, Lindisfarne, Mississippi, 1961</td>\n",
       "      <td>Sunt amet exercitation aliqua cillum commodo o...</td>\n",
       "      <td>2016-01-06T09:38:15 -06:-30</td>\n",
       "      <td>-80.136744</td>\n",
       "      <td>176.780600</td>\n",
       "      <td>[qui, aute, voluptate, eiusmod, est, est, cupi...</td>\n",
       "      <td>[{'id': 0, 'name': 'Elnora Peck'}, {'id': 1, '...</td>\n",
       "      <td>Hello, Head Mcconnell! You have 5 unread messa...</td>\n",
       "      <td>strawberry</td>\n",
       "    </tr>\n",
       "    <tr>\n",
       "      <th>5</th>\n",
       "      <td>5c0a28d749ce43912931715e</td>\n",
       "      <td>5</td>\n",
       "      <td>1d4dcbcd-c5b7-45a8-9650-82d7f98305c6</td>\n",
       "      <td>True</td>\n",
       "      <td>$2,441.66</td>\n",
       "      <td>http://placehold.it/32x32</td>\n",
       "      <td>23</td>\n",
       "      <td>green</td>\n",
       "      <td>Albert Lopez</td>\n",
       "      <td>male</td>\n",
       "      <td>...</td>\n",
       "      <td>+1 (971) 446-2770</td>\n",
       "      <td>311 Haring Street, Savannah, Michigan, 9161</td>\n",
       "      <td>Occaecat dolor minim et nisi cupidatat ipsum. ...</td>\n",
       "      <td>2018-08-03T04:18:49 -06:-30</td>\n",
       "      <td>46.397226</td>\n",
       "      <td>148.006522</td>\n",
       "      <td>[dolore, eiusmod, laborum, dolore, aliquip, al...</td>\n",
       "      <td>[{'id': 0, 'name': 'Candice Moreno'}, {'id': 1...</td>\n",
       "      <td>Hello, Albert Lopez! You have 2 unread messages.</td>\n",
       "      <td>apple</td>\n",
       "    </tr>\n",
       "  </tbody>\n",
       "</table>\n",
       "<p>6 rows × 22 columns</p>\n",
       "</div>"
      ],
      "text/plain": [
       "                        _id  index                                  guid  \\\n",
       "0  5c0a28d7a647437fd3d3a6aa      0  832f1af4-fb18-4ba8-b032-f4cbf343dbe9   \n",
       "1  5c0a28d780f6278b11586ab1      1  4306cb37-9506-48c2-8ccf-e69a063589ee   \n",
       "2  5c0a28d722e2e29d9bce2b64      2  5019e436-7cc4-48ee-a384-3483131f8ee1   \n",
       "3  5c0a28d76b5e8859a754cb4f      3  d2c4b1eb-2974-463a-b288-d1dae5dec187   \n",
       "4  5c0a28d7ebb99c08e2288c76      4  df0b59ed-2e81-43f1-9ae0-16f138e738be   \n",
       "5  5c0a28d749ce43912931715e      5  1d4dcbcd-c5b7-45a8-9650-82d7f98305c6   \n",
       "\n",
       "   isActive    balance                    picture  age eyeColor  \\\n",
       "0     False  $3,806.93  http://placehold.it/32x32   20    green   \n",
       "1      True  $3,330.01  http://placehold.it/32x32   22    brown   \n",
       "2      True  $1,619.46  http://placehold.it/32x32   40    green   \n",
       "3     False  $3,334.12  http://placehold.it/32x32   29     blue   \n",
       "4     False  $1,368.48  http://placehold.it/32x32   33    brown   \n",
       "5      True  $2,441.66  http://placehold.it/32x32   23    green   \n",
       "\n",
       "                 name  gender  ...              phone  \\\n",
       "0         Grace Berry  female  ...  +1 (814) 555-3298   \n",
       "1      Hilary Sellers  female  ...  +1 (942) 536-3059   \n",
       "2      Sherri Gilbert  female  ...  +1 (954) 591-2183   \n",
       "3  Caldwell Patterson    male  ...  +1 (815) 400-3780   \n",
       "4      Head Mcconnell    male  ...  +1 (820) 573-3154   \n",
       "5        Albert Lopez    male  ...  +1 (971) 446-2770   \n",
       "\n",
       "                                             address  \\\n",
       "0        698 Kansas Place, Bethpage, Louisiana, 7695   \n",
       "1      309 Kingsway Place, Kilbourne, New York, 3771   \n",
       "2            347 Seeley Street, Witmer, Kansas, 9369   \n",
       "3          178 Stewart Street, Ferney, Wyoming, 9118   \n",
       "4  189 Rogers Avenue, Lindisfarne, Mississippi, 1961   \n",
       "5        311 Haring Street, Savannah, Michigan, 9161   \n",
       "\n",
       "                                               about  \\\n",
       "0  Nostrud consectetur elit occaecat dolore incid...   \n",
       "1  Sunt id ipsum velit voluptate. Ullamco non non...   \n",
       "2  Laborum ad excepteur amet sunt aliqua veniam c...   \n",
       "3  Eu amet aliqua magna ipsum quis et ut reprehen...   \n",
       "4  Sunt amet exercitation aliqua cillum commodo o...   \n",
       "5  Occaecat dolor minim et nisi cupidatat ipsum. ...   \n",
       "\n",
       "                    registered   latitude   longitude  \\\n",
       "0  2015-12-09T08:21:48 -06:-30 -65.630631  131.991768   \n",
       "1  2014-12-15T11:42:39 -06:-30  38.790260   48.442002   \n",
       "2  2014-10-31T05:02:03 -06:-30  34.404508 -116.452211   \n",
       "3  2018-04-02T03:06:31 -06:-30 -63.424959  -51.151783   \n",
       "4  2016-01-06T09:38:15 -06:-30 -80.136744  176.780600   \n",
       "5  2018-08-03T04:18:49 -06:-30  46.397226  148.006522   \n",
       "\n",
       "                                                tags  \\\n",
       "0  [eu, id, fugiat, deserunt, nulla, proident, la...   \n",
       "1  [deserunt, do, adipisicing, in, aliqua, duis, ...   \n",
       "2  [adipisicing, cillum, deserunt, aute, ipsum, c...   \n",
       "3  [adipisicing, veniam, dolor, duis, aute, tempo...   \n",
       "4  [qui, aute, voluptate, eiusmod, est, est, cupi...   \n",
       "5  [dolore, eiusmod, laborum, dolore, aliquip, al...   \n",
       "\n",
       "                                             friends  \\\n",
       "0  [{'id': 0, 'name': 'Small Pena'}, {'id': 1, 'n...   \n",
       "1  [{'id': 0, 'name': 'Spears Smith'}, {'id': 1, ...   \n",
       "2  [{'id': 0, 'name': 'Sexton Watts'}, {'id': 1, ...   \n",
       "3  [{'id': 0, 'name': 'Anne Holcomb'}, {'id': 1, ...   \n",
       "4  [{'id': 0, 'name': 'Elnora Peck'}, {'id': 1, '...   \n",
       "5  [{'id': 0, 'name': 'Candice Moreno'}, {'id': 1...   \n",
       "\n",
       "                                            greeting favoriteFruit  \n",
       "0    Hello, Grace Berry! You have 1 unread messages.    strawberry  \n",
       "1  Hello, Hilary Sellers! You have 4 unread messa...         apple  \n",
       "2  Hello, Sherri Gilbert! You have 1 unread messa...         apple  \n",
       "3  Hello, Caldwell Patterson! You have 6 unread m...    strawberry  \n",
       "4  Hello, Head Mcconnell! You have 5 unread messa...    strawberry  \n",
       "5   Hello, Albert Lopez! You have 2 unread messages.         apple  \n",
       "\n",
       "[6 rows x 22 columns]"
      ]
     },
     "execution_count": 40,
     "metadata": {},
     "output_type": "execute_result"
    }
   ],
   "source": [
    "df.dropna()"
   ]
  },
  {
   "cell_type": "code",
   "execution_count": 41,
   "id": "b6024764",
   "metadata": {},
   "outputs": [],
   "source": [
    "# hence there are no outlyers "
   ]
  },
  {
   "cell_type": "code",
   "execution_count": null,
   "id": "56f07a89",
   "metadata": {},
   "outputs": [],
   "source": []
  }
 ],
 "metadata": {
  "kernelspec": {
   "display_name": "Python 3",
   "language": "python",
   "name": "python3"
  },
  "language_info": {
   "codemirror_mode": {
    "name": "ipython",
    "version": 3
   },
   "file_extension": ".py",
   "mimetype": "text/x-python",
   "name": "python",
   "nbconvert_exporter": "python",
   "pygments_lexer": "ipython3",
   "version": "3.8.8"
  }
 },
 "nbformat": 4,
 "nbformat_minor": 5
}
